{
 "cells": [
  {
   "cell_type": "code",
   "execution_count": null,
   "id": "7130132a-26e2-40b0-b884-287a348721b1",
   "metadata": {},
   "outputs": [],
   "source": [
    "#Case-Study3\n",
    "#KaranVeerSingh"
   ]
  },
  {
   "cell_type": "code",
   "execution_count": 10,
   "id": "b9dc5ad6-a061-49b1-a3b9-c397f1472ff7",
   "metadata": {},
   "outputs": [
    {
     "name": "stdout",
     "output_type": "stream",
     "text": [
      "Sum of th elements in list is: 45\n"
     ]
    }
   ],
   "source": [
    "#Sum-of-all-elements-list\n",
    "\n",
    "def suml(x):\n",
    "    sum=0\n",
    "    for i in x:\n",
    "        sum += i\n",
    "    return sum\n",
    "\n",
    "list1= [1,2,3,4,5,6,7,8,9]\n",
    "\n",
    "print(\"Sum of th elements in list is:\" ,suml(list1))"
   ]
  },
  {
   "cell_type": "code",
   "execution_count": 16,
   "id": "edb37066-41ec-4f0d-b9a7-345ed086218c",
   "metadata": {},
   "outputs": [
    {
     "name": "stdout",
     "output_type": "stream",
     "text": [
      "Product of th elements in list is: 362880\n"
     ]
    }
   ],
   "source": [
    "#Product-of-all-elements\n",
    "def prod1(x):\n",
    "    ans=1\n",
    "    for i in x:\n",
    "        ans *= i\n",
    "    return ans\n",
    "\n",
    "list1= [1,2,3,4,5,6,7,8,9]\n",
    "\n",
    "print(\"Product of th elements in list is:\" ,prod1(list1))"
   ]
  },
  {
   "cell_type": "code",
   "execution_count": 20,
   "id": "4ab39297-a8f4-436f-9c02-b163df24351d",
   "metadata": {},
   "outputs": [
    {
     "name": "stdout",
     "output_type": "stream",
     "text": [
      "Largest number in the list [611, 32, 78, 9, 1, 14, 38, 5, 13, 5, 287, 6, 893, 1] is 893\n"
     ]
    }
   ],
   "source": [
    "#LArgest-mumber\n",
    "\n",
    "def largst(x):\n",
    "    L=0\n",
    "    for i in x:\n",
    "        if L < i:\n",
    "            L=i\n",
    "    return L\n",
    "\n",
    "List2=[611,32,78,9,1,14,38,5,13,5,287,6,893,1]\n",
    "\n",
    "print(\"Largest number in the list\", List2,\"is\",largst(List2))\n",
    "\n"
   ]
  },
  {
   "cell_type": "code",
   "execution_count": 32,
   "id": "38bdf575-c833-4c89-8032-7c7552122593",
   "metadata": {},
   "outputs": [
    {
     "name": "stdout",
     "output_type": "stream",
     "text": [
      "Smallest number in the list [611, 32, 78, 9, 1, 14, 38, 5, 13, 5, 287, 6, 893, 1] is 1\n"
     ]
    }
   ],
   "source": [
    "#Smallest-mumber\n",
    "\n",
    "def smallst(x):\n",
    "    k=x[0]\n",
    "    for i in x:\n",
    "        if k > i:\n",
    "            k=i\n",
    "    return k\n",
    "\n",
    "List2=[611,32,78,9,1,14,38,5,13,5,287,6,893,1]\n",
    "\n",
    "print(\"Smallest number in the list\", List2,\"is\",smallst(List2))\n",
    "\n"
   ]
  },
  {
   "cell_type": "code",
   "execution_count": 36,
   "id": "69893885-d6c2-4c52-b09a-6cad438c4c93",
   "metadata": {},
   "outputs": [
    {
     "name": "stdout",
     "output_type": "stream",
     "text": [
      "4\n"
     ]
    }
   ],
   "source": [
    "#String-len2-samechar\n",
    "\n",
    "def stringg(x):\n",
    "    count=0\n",
    "    for i in x:\n",
    "        if len(i)>1 and i[0]==i[-1]:\n",
    "            count+=1\n",
    "    return count\n",
    "\n",
    "list3=['wow','hello','27192','karan','nandihill','99109','zyqmfz']\n",
    "\n",
    "print(stringg(list3))"
   ]
  },
  {
   "cell_type": "code",
   "execution_count": 9,
   "id": "5e87c38a-646e-4f12-bf86-232af1145d42",
   "metadata": {},
   "outputs": [
    {
     "name": "stdout",
     "output_type": "stream",
     "text": [
      "[(2, 1), (1, 2), (2, 3), (4, 4), (2, 5)]\n"
     ]
    }
   ],
   "source": [
    "#Sorting-list-of-tuple\n",
    "\n",
    "def end_val(y):\n",
    "    return y[1]\n",
    "\n",
    "def sorted_list(w):\n",
    "    return sorted(w, key= end_val)\n",
    "    \n",
    "x= [(2, 5), (1, 2), (4, 4), (2, 3), (2, 1)]\n",
    "\n",
    "k= sorted_list(x)\n",
    "\n",
    "print(k)"
   ]
  },
  {
   "cell_type": "code",
   "execution_count": 23,
   "id": "ef6a0fd6-3a44-4b7f-b30c-e391adc4a069",
   "metadata": {},
   "outputs": [
    {
     "name": "stdout",
     "output_type": "stream",
     "text": [
      "list without Dupcilate items [40, 10, 80, 50, 20, 60, 30]\n"
     ]
    }
   ],
   "source": [
    "#Duplicate-removal\n",
    "\n",
    "a = [10,20,30,20,10,50,60,40,80,50,40]\n",
    "b= set(a)\n",
    "c = list(b)\n",
    "print(\"list without Dupcilate items\",c)\n"
   ]
  },
  {
   "cell_type": "code",
   "execution_count": 25,
   "id": "13f9b2a4-383b-4d4a-b00f-0ecdad68823c",
   "metadata": {},
   "outputs": [
    {
     "name": "stdin",
     "output_type": "stream",
     "text": [
      "No. Elements in list: 0\n"
     ]
    },
    {
     "name": "stdout",
     "output_type": "stream",
     "text": [
      "The list is empty: True\n",
      "List is empty\n"
     ]
    }
   ],
   "source": [
    "#Empty-list\n",
    "\n",
    "def mt_list(x):\n",
    "    if len(x)==0:\n",
    "        return True\n",
    "    else:\n",
    "        return False\n",
    "\n",
    "w=[]\n",
    "\n",
    "a= int(input(\"No. Elements in list:\"))\n",
    "for i in range(a):\n",
    "    k=int(input(\"Enter element\"))\n",
    "    w.append(k)\n",
    "\n",
    "print(\"The list is empty:\", mt_list(w))\n",
    "#alternnate \n",
    "if not w:\n",
    "    print(\"List is empty\")\n",
    "elif w:\n",
    "    print(\"List is not empty\")\n",
    "else:\n",
    "    print(\"End\")\n",
    "    "
   ]
  },
  {
   "cell_type": "code",
   "execution_count": 21,
   "id": "03e4e0f1-ac25-44a2-a39e-262bc47f77ea",
   "metadata": {},
   "outputs": [
    {
     "name": "stdout",
     "output_type": "stream",
     "text": [
      "orignal List [1, 5, 6, 78, 4, 3, 4, 6, 3, 1, 2, 4, 5, 56, 3, 2, 4, 5, 6, 4, 3, 3, 5, 5] \n",
      "Copy list [1, 5, 6, 78, 4, 3, 4, 6, 3, 1, 2, 4, 5, 56, 3, 2, 4, 5, 6, 4, 3, 3, 5, 5]\n"
     ]
    }
   ],
   "source": [
    "#List_copy\n",
    "\n",
    "oglist=[1,5,6,78,4,3,4,6,3,1,2,4,5,56,3,2,4,5,6,4,3,3,5,5]\n",
    "cpylist=oglist.copy()\n",
    "print(\"orignal List\", oglist, \"\\nCopy list\",cpylist)"
   ]
  },
  {
   "cell_type": "code",
   "execution_count": 27,
   "id": "29f3ab41-eacf-4efc-95ef-1b7da7d49981",
   "metadata": {},
   "outputs": [
    {
     "name": "stdin",
     "output_type": "stream",
     "text": [
      "Enter the letter count 4\n",
      "Enter the sentence hello there i am karan veer singh\n"
     ]
    },
    {
     "name": "stdout",
     "output_type": "stream",
     "text": [
      "['hello', 'there', 'karan', 'singh']\n"
     ]
    }
   ],
   "source": [
    "#Word_count_larger\n",
    "\n",
    "def wrdcnt(x, y):\n",
    "    w=[]\n",
    "    splitw=x.split(\" \")\n",
    "    for i in splitw:\n",
    "        if len(i)>y:\n",
    "            w.append(i)\n",
    "    return w\n",
    "\n",
    "uno=int(input(\"Enter the letter count\"))\n",
    "\n",
    "uword=input(\"Enter the sentence\")\n",
    "\n",
    "print(wrdcnt(uword,uno))\n"
   ]
  },
  {
   "cell_type": "code",
   "execution_count": 37,
   "id": "1a4d939b-6105-4eb4-b19a-ff0c217fc9bb",
   "metadata": {},
   "outputs": [
    {
     "name": "stdout",
     "output_type": "stream",
     "text": [
      "True\n"
     ]
    }
   ],
   "source": [
    "#common_element_in_lists\n",
    "\n",
    "def cmmn(q,w):\n",
    "    result=0\n",
    "    for i in q:\n",
    "        for j in w:\n",
    "            if i==j:\n",
    "                result= True\n",
    "    if result != True:\n",
    "        result= False\n",
    "    return result\n",
    "\n",
    "x=[1,2,3,4,5,6,7]\n",
    "y=[6,7,8,9,0]\n",
    "\n",
    "print(cmmn(x,y))"
   ]
  },
  {
   "cell_type": "code",
   "execution_count": 41,
   "id": "58663ee8-8eb2-4974-92b9-9ce2d2907c43",
   "metadata": {},
   "outputs": [
    {
     "name": "stdout",
     "output_type": "stream",
     "text": [
      "['Green', 'White', 'Black']\n"
     ]
    }
   ],
   "source": [
    "#enumerate\n",
    "color = ['Red', 'Green', 'White', 'Black', 'Pink', 'Yellow']\n",
    "color= [x for (i,x) in enumerate(color) if i not in (0,4,5)]\n",
    "print (color)"
   ]
  },
  {
   "cell_type": "code",
   "execution_count": null,
   "id": "2d2b3b1e-745e-4d5f-9321-299f7227f9ff",
   "metadata": {},
   "outputs": [],
   "source": []
  }
 ],
 "metadata": {
  "kernelspec": {
   "display_name": "Python [conda env:base] *",
   "language": "python",
   "name": "conda-base-py"
  },
  "language_info": {
   "codemirror_mode": {
    "name": "ipython",
    "version": 3
   },
   "file_extension": ".py",
   "mimetype": "text/x-python",
   "name": "python",
   "nbconvert_exporter": "python",
   "pygments_lexer": "ipython3",
   "version": "3.12.7"
  }
 },
 "nbformat": 4,
 "nbformat_minor": 5
}
