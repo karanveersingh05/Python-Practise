{
 "cells": [
  {
   "cell_type": "code",
   "execution_count": null,
   "id": "5b344dd1-76b4-4186-a692-764f7cf01687",
   "metadata": {},
   "outputs": [],
   "source": [
    "#Karan Veer Singh\n",
    "#Project: Face Detection"
   ]
  },
  {
   "cell_type": "code",
   "execution_count": null,
   "id": "b2552504-71c9-4cc4-9309-c9b13d48442b",
   "metadata": {},
   "outputs": [],
   "source": [
    "import numpy as np\n",
    "import pandas as pd\n",
    "import matplotlib.pyplot as plt\n",
    "import seaborn as sns\n",
    "import dlib\n",
    "import cv2"
   ]
  },
  {
   "cell_type": "code",
   "execution_count": null,
   "id": "e66ad799-bda6-447f-a338-c6a63a48db54",
   "metadata": {},
   "outputs": [],
   "source": []
  }
 ],
 "metadata": {
  "kernelspec": {
   "display_name": "Python 3 (ipykernel)",
   "language": "python",
   "name": "python3"
  },
  "language_info": {
   "codemirror_mode": {
    "name": "ipython",
    "version": 3
   },
   "file_extension": ".py",
   "mimetype": "text/x-python",
   "name": "python",
   "nbconvert_exporter": "python",
   "pygments_lexer": "ipython3",
   "version": "3.12.10"
  }
 },
 "nbformat": 4,
 "nbformat_minor": 5
}
