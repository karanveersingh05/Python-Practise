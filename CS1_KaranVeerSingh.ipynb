{
 "cells": [
  {
   "cell_type": "code",
   "execution_count": null,
   "id": "ec31d497-463c-43c1-b866-354cade5932c",
   "metadata": {},
   "outputs": [],
   "source": [
    "#CaseStudy1_Introduction_to_Python\n",
    "#Submission_by_Karan_Veer_Singh"
   ]
  },
  {
   "cell_type": "code",
   "execution_count": 5,
   "id": "caec89a2-f2d3-4ccb-877e-35b8a1797291",
   "metadata": {},
   "outputs": [
    {
     "name": "stdout",
     "output_type": "stream",
     "text": [
      "Version:3.12.7 | packaged by Anaconda, Inc. | (main, Oct  4 2024, 13:17:27) [MSC v.1929 64 bit (AMD64)]\n",
      "Version Info: sys.version_info(major=3, minor=12, micro=7, releaselevel='final', serial=0)\n"
     ]
    }
   ],
   "source": [
    "#Python_Version\n",
    "import sys\n",
    "print(\"Version:\" + sys.version)\n",
    "print(\"Version Info:\", sys.version_info)"
   ]
  },
  {
   "cell_type": "code",
   "execution_count": 11,
   "id": "cc95e1bf-da8d-48c1-a8fc-8b4f3942835a",
   "metadata": {},
   "outputs": [
    {
     "name": "stdout",
     "output_type": "stream",
     "text": [
      "Current Date and Time is: 2025-02-17 18:56:54.754564\n"
     ]
    }
   ],
   "source": [
    "#current_date_time\n",
    "import datetime as dt\n",
    "crntdt= dt.datetime.now()\n",
    "print(\"Current Date and Time is:\" ,crntdt)"
   ]
  },
  {
   "cell_type": "code",
   "execution_count": 15,
   "id": "5fde944a-e4e5-45a4-9463-d26a04815a5d",
   "metadata": {},
   "outputs": [
    {
     "name": "stdout",
     "output_type": "stream",
     "text": [
      "Current Date and Time is: 17/02/2025 18:56:54\n"
     ]
    }
   ],
   "source": [
    "print(\"Current Date and Time is:\", crntdt.strftime(\"%d/%m/%Y %H:%M:%S\"))"
   ]
  },
  {
   "cell_type": "code",
   "execution_count": 25,
   "id": "852dbf36-c2d5-4aac-a724-442ec69f8aff",
   "metadata": {},
   "outputs": [
    {
     "name": "stdin",
     "output_type": "stream",
     "text": [
      "Enter The Radius of the Circle: 67\n"
     ]
    },
    {
     "name": "stdout",
     "output_type": "stream",
     "text": [
      "The Area of the Circle is: 14099.949\n"
     ]
    }
   ],
   "source": [
    "#Radius_of_circle\n",
    "rad=float(input(\"Enter The Radius of the Circle:\"))\n",
    "print(\"The Area of the Circle is:\", 3.141*rad**2)"
   ]
  },
  {
   "cell_type": "code",
   "execution_count": 29,
   "id": "d0171e18-a7f4-4aba-af0e-bd59fe2113a6",
   "metadata": {},
   "outputs": [
    {
     "name": "stdin",
     "output_type": "stream",
     "text": [
      "Enter the Radius of your circle 67\n"
     ]
    },
    {
     "name": "stdout",
     "output_type": "stream",
     "text": [
      "Area of Circle with Radius 67.0 is 14102.609421964582\n"
     ]
    }
   ],
   "source": [
    "import math\n",
    "Rad= float(input(\"Enter the Radius of your circle\"))\n",
    "print(\"Area of Circle with Radius\", Rad, \"is\" , pi*Rad**2)"
   ]
  },
  {
   "cell_type": "code",
   "execution_count": 33,
   "id": "e3de2022-3444-4386-ab35-6a549653b4c2",
   "metadata": {},
   "outputs": [
    {
     "name": "stdin",
     "output_type": "stream",
     "text": [
      "Enter Your First Name Karan \n",
      "Enter your Middle Name Veer \n",
      "Enter your Last Name Singh\n"
     ]
    },
    {
     "name": "stdout",
     "output_type": "stream",
     "text": [
      "Hello: Singh  Veer   Karan \n"
     ]
    }
   ],
   "source": [
    "#Name_Order_Reverse\n",
    "firstN=input(\"Enter Your First Name\")\n",
    "middleN= input(\"Enter your Middle Name\")\n",
    "lastN= input(\"Enter your Last Name\")\n",
    "print(\"Hello:\", lastN, \" \", middleN, \" \", firstN)"
   ]
  },
  {
   "cell_type": "code",
   "execution_count": 49,
   "id": "b968ccf2-b5a3-4423-8d6c-d8a3aa6ec431",
   "metadata": {},
   "outputs": [
    {
     "name": "stdin",
     "output_type": "stream",
     "text": [
      "Enter Numbers seperated by comma(,) 45,27,12,85,21,66,7,4\n"
     ]
    },
    {
     "name": "stdout",
     "output_type": "stream",
     "text": [
      "Tuple ('45', '27', '12', '85', '21', '66', '7', '4')\n",
      "List ['45', '27', '12', '85', '21', '66', '7', '4']\n"
     ]
    }
   ],
   "source": [
    "#Split_list_tuple\n",
    "inpN= input(\"Enter Numbers seperated by comma(,)\")\n",
    "listN= inpN.split(\",\")\n",
    "tupleN= tuple(listN)\n",
    "print(\"Tuple\", tupleN)\n",
    "print(\"List\", listN)"
   ]
  },
  {
   "cell_type": "code",
   "execution_count": 57,
   "id": "63d8d4ec-9b0c-426e-824d-e7a31cd9471e",
   "metadata": {},
   "outputs": [
    {
     "name": "stdin",
     "output_type": "stream",
     "text": [
      "Enter the complete file Name: Coding.py\n"
     ]
    },
    {
     "name": "stdout",
     "output_type": "stream",
     "text": [
      "File Extension of your file is 'py'\n"
     ]
    }
   ],
   "source": [
    "#File_extension \n",
    "fileN= input(\"Enter the complete file Name:\")\n",
    "fileExtn= fileN.split(\".\")\n",
    "print(\"File Extension of your file is\", repr(fileExtn[-1]))"
   ]
  },
  {
   "cell_type": "code",
   "execution_count": 55,
   "id": "b8ccacfa-127a-44a7-b539-cac9a94594a7",
   "metadata": {},
   "outputs": [
    {
     "name": "stdout",
     "output_type": "stream",
     "text": [
      "Red Purple\n"
     ]
    }
   ],
   "source": [
    "#First_Last_elements\n",
    "clrlist=[\"Red\", \"Green\", \"Blue\", \"White\", \"Black\",\"Purple\"]\n",
    "print(clrlist[0], clrlist[-1])"
   ]
  },
  {
   "cell_type": "code",
   "execution_count": 61,
   "id": "4cb40059-2ca5-4f9f-befe-4414309fdae5",
   "metadata": {},
   "outputs": [
    {
     "name": "stdin",
     "output_type": "stream",
     "text": [
      "Enter the value to be computed: 3\n"
     ]
    },
    {
     "name": "stdout",
     "output_type": "stream",
     "text": [
      "Value for 3 To be computed as 3 + 33 + 333 Equals: 369\n"
     ]
    }
   ],
   "source": [
    "#value_n+nn+nnn\n",
    "x=int(input(\"Enter the value to be computed:\"))\n",
    "x1=int(\"%s%s\" % (x,x))\n",
    "x2=int(\"%s%s%s\" % (x,x,x))\n",
    "print(\"Value for\",x,\"To be computed as\", x,\"+\",x1,\"+\",x2,\"Equals:\", x+x1+x2)"
   ]
  },
  {
   "cell_type": "code",
   "execution_count": 67,
   "id": "b17547ed-60c9-437c-ba2c-649c7c5dbe3c",
   "metadata": {},
   "outputs": [
    {
     "name": "stdout",
     "output_type": "stream",
     "text": [
      "Volume of sphere with radius 6= 25.132741228718345 meter cube\n"
     ]
    }
   ],
   "source": [
    "#Volume_of_sphere(Radius=6)\n",
    "from math import pi\n",
    "r=6\n",
    "v=(4.0/3.0)*pi*r\n",
    "print(\"Volume of sphere with radius 6=\", v,\"meter cube\")\n",
    "\n"
   ]
  },
  {
   "cell_type": "code",
   "execution_count": 71,
   "id": "7c80728d-36de-4d88-a48d-8e41eb8ef90f",
   "metadata": {},
   "outputs": [
    {
     "name": "stdin",
     "output_type": "stream",
     "text": [
      "Enter time in Seconds: 123412\n"
     ]
    },
    {
     "name": "stdout",
     "output_type": "stream",
     "text": [
      "The entered time 123412 seconds is 1 days 10 hours 16 minutes 52 seconds\n"
     ]
    }
   ],
   "source": [
    "#Seconds_into_Days,Hour,Minute,Seconds\n",
    "t=int(input(\"Enter time in Seconds:\"))\n",
    "tout=t\n",
    "SinD=24*3600\n",
    "SinH=60*60\n",
    "SinM=60\n",
    "d=t//SinD\n",
    "t%=SinD\n",
    "h=t//SinH\n",
    "t%=SinH\n",
    "m=t//SinM\n",
    "t%=SinM\n",
    "s=t\n",
    "print(\"The entered time\", tout,\"seconds is\", d,\"days\", h,\"hours\", m, \"minutes\", s,\"seconds\")"
   ]
  },
  {
   "cell_type": "code",
   "execution_count": null,
   "id": "1005a425-2f08-47f4-ab08-a963c0381046",
   "metadata": {},
   "outputs": [],
   "source": []
  }
 ],
 "metadata": {
  "kernelspec": {
   "display_name": "Python [conda env:base] *",
   "language": "python",
   "name": "conda-base-py"
  },
  "language_info": {
   "codemirror_mode": {
    "name": "ipython",
    "version": 3
   },
   "file_extension": ".py",
   "mimetype": "text/x-python",
   "name": "python",
   "nbconvert_exporter": "python",
   "pygments_lexer": "ipython3",
   "version": "3.12.7"
  }
 },
 "nbformat": 4,
 "nbformat_minor": 5
}
