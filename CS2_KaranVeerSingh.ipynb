{
 "cells": [
  {
   "cell_type": "code",
   "execution_count": null,
   "id": "785663a0-b8a9-4ece-a7d5-696615a3d23c",
   "metadata": {},
   "outputs": [],
   "source": [
    "#Case_Study2\n",
    "#Karan_Veer_Singh"
   ]
  },
  {
   "cell_type": "code",
   "execution_count": 6,
   "id": "5b16c86b-9df5-4619-8e76-d29c9d802be9",
   "metadata": {},
   "outputs": [
    {
     "name": "stdin",
     "output_type": "stream",
     "text": [
      "Enter the number of elements input: 3\n",
      "Enter the element 2\n",
      "Enter the element 3\n",
      "Enter the element 4\n"
     ]
    },
    {
     "name": "stdout",
     "output_type": "stream",
     "text": [
      "Number of 4 in the list [2, 3, 4] is 1\n"
     ]
    }
   ],
   "source": [
    "#Occuerance-of-4-in-list\n",
    "z=0\n",
    "n=0\n",
    "x=[]\n",
    "\n",
    "def count4(x):\n",
    "    count=0\n",
    "    for y in x:\n",
    "        if y==4:\n",
    "            count+=1\n",
    "    return count\n",
    "\n",
    "n= int(input(\"Enter the number of elements input:\"))\n",
    "\n",
    "for i in range(n):\n",
    "    z=int(input(\"Enter the element\"))\n",
    "    x.append(z)\n",
    "print(\"Number of 4 in the list\", x, \"is\", count4(x))\n",
    "    "
   ]
  },
  {
   "cell_type": "code",
   "execution_count": 18,
   "id": "ba53ea38-0789-4729-8bfe-b14611784209",
   "metadata": {},
   "outputs": [
    {
     "name": "stdin",
     "output_type": "stream",
     "text": [
      "Enter a single Vowel u\n"
     ]
    },
    {
     "name": "stdout",
     "output_type": "stream",
     "text": [
      "The passed- u -letter is vowel\n"
     ]
    }
   ],
   "source": [
    "#Checking-for-vowel\n",
    "def checkvowel(w):\n",
    "    vowel=['a','e','i','o','u']\n",
    "    if w.lower() in vowel:\n",
    "        print(\"The passed-\", w, \"-letter is vowel\")\n",
    "    else:\n",
    "        print(\"Not a Vowel\")\n",
    "\n",
    "vow=input(\"Enter a single Vowel\")\n",
    "checkvowel(vow)\n"
   ]
  },
  {
   "cell_type": "code",
   "execution_count": 29,
   "id": "1ebbc10e-2f6b-4320-8d2a-a42318ea4a5f",
   "metadata": {},
   "outputs": [
    {
     "name": "stdout",
     "output_type": "stream",
     "text": [
      "True for 3\n",
      "False for -1\n"
     ]
    }
   ],
   "source": [
    "#value-in-group\n",
    "def groupmember(gdata,gvalue1,gvalue2):\n",
    "    if gvalue1 in gdata:\n",
    "        print(\"True for 3\")\n",
    "    else:\n",
    "        print(\"False for 3\")\n",
    "    if gvalue2 in gdata:\n",
    "        print(\"True for -1\")\n",
    "    else:\n",
    "        print(\"False for -1\")\n",
    "\n",
    "z=[1,5,8,3]\n",
    "x=3\n",
    "y=-1\n",
    "\n",
    "groupmember(z,x,y)\n"
   ]
  },
  {
   "cell_type": "code",
   "execution_count": 37,
   "id": "3d4d401f-3e7e-4ca3-8898-488897c2dfe9",
   "metadata": {},
   "outputs": [
    {
     "name": "stdout",
     "output_type": "stream",
     "text": [
      "@@\n",
      "@@@\n",
      "@@@@@@\n",
      "@@@@@\n"
     ]
    }
   ],
   "source": [
    "#histogram \n",
    "def histogm(items):\n",
    "    for i in items:\n",
    "            print(\"@\"*i)\n",
    "x=[2,3,6,5]\n",
    "histogm(x)"
   ]
  },
  {
   "cell_type": "code",
   "execution_count": 45,
   "id": "23104194-d74c-4a11-abe8-b0e378593c50",
   "metadata": {},
   "outputs": [
    {
     "name": "stdout",
     "output_type": "stream",
     "text": [
      "13732834812\n",
      "<class 'str'>\n"
     ]
    }
   ],
   "source": [
    "#concatenate-list-string\n",
    "def conc_ls(w):\n",
    "    s=\"\"\n",
    "    for i in w:\n",
    "        s+=str(i)\n",
    "    return s\n",
    "k=conc_ls([1,3,7,3,2,8,3,4,8,1,2])\n",
    "print(k)\n",
    "print(type(k))"
   ]
  },
  {
   "cell_type": "code",
   "execution_count": 49,
   "id": "0414a20a-89c4-401f-b4b9-707522baa2a6",
   "metadata": {},
   "outputs": [
    {
     "name": "stdin",
     "output_type": "stream",
     "text": [
      "Enter The Height 5\n",
      "Enter the base 9\n"
     ]
    },
    {
     "name": "stdout",
     "output_type": "stream",
     "text": [
      "The Area of the triangle is: 22.5\n"
     ]
    }
   ],
   "source": [
    "#Area-of-a-triangle\n",
    "def areatri(x,y):\n",
    "    print(\"The Area of the triangle is:\", (x*y)/2)\n",
    "    \n",
    "h=int(input(\"Enter The Height\"))\n",
    "b=int(input(\"Enter the base\"))\n",
    "areatri(h,b)\n",
    "    \n",
    "    "
   ]
  },
  {
   "cell_type": "code",
   "execution_count": 55,
   "id": "7cad1199-b262-4963-b0ba-53c540e9281c",
   "metadata": {},
   "outputs": [
    {
     "name": "stdin",
     "output_type": "stream",
     "text": [
      "Enter first number 5782\n",
      "Enter second number 77397\n",
      "Enter third number 5782\n"
     ]
    },
    {
     "name": "stdout",
     "output_type": "stream",
     "text": [
      "0\n"
     ]
    }
   ],
   "source": [
    "#Sum_logical\n",
    "\n",
    "def sumof(a,b,c):\n",
    "    if a==b or b==c or c==a:\n",
    "        sum=0\n",
    "    else:\n",
    "        sum= a+b+c\n",
    "    return sum\n",
    "\n",
    "x=int(input(\"Enter first number\"))\n",
    "y=int(input(\"Enter second number\"))\n",
    "z=int(input(\"Enter third number\"))\n",
    "print(sumof(x,y,z))"
   ]
  },
  {
   "cell_type": "code",
   "execution_count": 61,
   "id": "11017353-45d0-4a52-bc95-c4f6e3534540",
   "metadata": {},
   "outputs": [
    {
     "name": "stdin",
     "output_type": "stream",
     "text": [
      "Enter first number 3\n",
      "Enter second number 15\n"
     ]
    },
    {
     "name": "stdout",
     "output_type": "stream",
     "text": [
      "20\n"
     ]
    }
   ],
   "source": [
    "#sum-range-15-20\n",
    "def sumrange(a,b):\n",
    "    sum=a+b\n",
    "    if sum in range(15+1,20):\n",
    "        return 20\n",
    "    else:\n",
    "        return sum\n",
    "\n",
    "x=int(input(\"Enter first number\"))\n",
    "y=int(input(\"Enter second number\"))\n",
    "print(sumrange(x,y))"
   ]
  },
  {
   "cell_type": "code",
   "execution_count": 69,
   "id": "b2d430b2-5f2c-48d8-84a4-3f53c4592052",
   "metadata": {},
   "outputs": [
    {
     "name": "stdin",
     "output_type": "stream",
     "text": [
      "Enter first number 2\n",
      "Enter second number 3\n"
     ]
    },
    {
     "name": "stdout",
     "output_type": "stream",
     "text": [
      "True\n"
     ]
    }
   ],
   "source": [
    "#testing-integers\n",
    "def integertest(a,b):\n",
    "    if a==b or (a+b)==5 or abs(a-b)==5:\n",
    "        return True\n",
    "    else:\n",
    "        return False\n",
    "\n",
    "x=int(input(\"Enter first number\"))\n",
    "y=int(input(\"Enter second number\"))\n",
    "print(integertest(x,y))\n",
    "    "
   ]
  },
  {
   "cell_type": "code",
   "execution_count": 81,
   "id": "5a86d5b2-a98f-4b82-a570-f251ee1b16ff",
   "metadata": {},
   "outputs": [
    {
     "name": "stdin",
     "output_type": "stream",
     "text": [
      "Enter X axis for first point 2\n",
      "Enter Y axis for first point 3\n",
      "Enter X axis for Second point 4\n",
      "Enter Y axis for Second point 5\n"
     ]
    },
    {
     "name": "stdout",
     "output_type": "stream",
     "text": [
      "Distance Between point [2, 3] and [4, 5] is 2.8284271247461903\n"
     ]
    }
   ],
   "source": [
    "import math\n",
    "def dist(x,y):\n",
    "    cord_dist=math.sqrt(((x[0]-y[0])**2) + ((x[1]-y[1])**2))\n",
    "    return cord_dist\n",
    "p1=[0,0]\n",
    "p2=[0,0]\n",
    "p1[0]=int(input(\"Enter X axis for first point\"))\n",
    "p1[1]=int(input(\"Enter Y axis for first point\"))\n",
    "p2[0]=int(input(\"Enter X axis for Second point\"))\n",
    "p2[1]=int(input(\"Enter Y axis for Second point\"))\n",
    "print(\"Distance Between point\", p1, \"and\", p2, \"is\", dist(p1,p2))\n"
   ]
  },
  {
   "cell_type": "code",
   "execution_count": null,
   "id": "a9cc477a-11ee-49bb-9417-80a99494a11a",
   "metadata": {},
   "outputs": [],
   "source": []
  }
 ],
 "metadata": {
  "kernelspec": {
   "display_name": "Python [conda env:base] *",
   "language": "python",
   "name": "conda-base-py"
  },
  "language_info": {
   "codemirror_mode": {
    "name": "ipython",
    "version": 3
   },
   "file_extension": ".py",
   "mimetype": "text/x-python",
   "name": "python",
   "nbconvert_exporter": "python",
   "pygments_lexer": "ipython3",
   "version": "3.12.7"
  }
 },
 "nbformat": 4,
 "nbformat_minor": 5
}
