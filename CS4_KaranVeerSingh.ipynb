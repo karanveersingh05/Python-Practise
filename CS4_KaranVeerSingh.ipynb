{
 "cells": [
  {
   "cell_type": "code",
   "execution_count": null,
   "id": "954f4225-d51b-41dd-a88b-6650dd96e663",
   "metadata": {},
   "outputs": [],
   "source": [
    "#Karan_Veer_Singh\n",
    "#CaseStudy_4"
   ]
  },
  {
   "cell_type": "code",
   "execution_count": 7,
   "id": "6bdb3453-8fd4-4ff9-8ce1-3993a1f3827e",
   "metadata": {},
   "outputs": [
    {
     "name": "stdout",
     "output_type": "stream",
     "text": [
      "Factor is Odd 1\n",
      "Factor is Even 2\n",
      "Factor is Odd 5\n",
      "Factor is Even 10\n",
      "Factor is Odd 25\n",
      "Factor is Even 50\n"
     ]
    }
   ],
   "source": [
    "#Factor_oddeven\n",
    "x=50\n",
    "for i in range(1,x+1):\n",
    "    rmndr=x%i\n",
    "    if(rmndr==0):\n",
    "        if(i%2==0):\n",
    "            print(\"Factor is Even\",i)\n",
    "        else:\n",
    "            print(\"Factor is Odd\",i)\n",
    "    else:\n",
    "        pass "
   ]
  },
  {
   "cell_type": "code",
   "execution_count": null,
   "id": "477cddac-b36a-4ec8-968a-df89a5da58ed",
   "metadata": {},
   "outputs": [],
   "source": []
  }
 ],
 "metadata": {
  "kernelspec": {
   "display_name": "Python [conda env:base] *",
   "language": "python",
   "name": "conda-base-py"
  },
  "language_info": {
   "codemirror_mode": {
    "name": "ipython",
    "version": 3
   },
   "file_extension": ".py",
   "mimetype": "text/x-python",
   "name": "python",
   "nbconvert_exporter": "python",
   "pygments_lexer": "ipython3",
   "version": "3.12.7"
  }
 },
 "nbformat": 4,
 "nbformat_minor": 5
}
